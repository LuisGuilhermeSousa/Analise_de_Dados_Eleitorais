{
 "metadata": {
  "language_info": {
   "codemirror_mode": {
    "name": "ipython",
    "version": 3
   },
   "file_extension": ".py",
   "mimetype": "text/x-python",
   "name": "python",
   "nbconvert_exporter": "python",
   "pygments_lexer": "ipython3",
   "version": "3.8.6-final"
  },
  "orig_nbformat": 2,
  "kernelspec": {
   "name": "python3",
   "display_name": "Python 3"
  }
 },
 "nbformat": 4,
 "nbformat_minor": 2,
 "cells": [
  {
   "cell_type": "code",
   "execution_count": 1,
   "metadata": {},
   "outputs": [],
   "source": [
    "import pandas as pd"
   ]
  },
  {
   "cell_type": "code",
   "execution_count": 37,
   "metadata": {},
   "outputs": [],
   "source": [
    "dados_2012 = pd.read_csv('Dados/perfil_eleitorado_2012.csv', sep=';', encoding='latin-1')\n",
    "dados_2014 = pd.read_csv('Dados/perfil_eleitorado_2014.csv', sep=';', encoding='utf-8')\n",
    "dados_2016 = pd.read_csv('Dados/perfil_eleitorado_2016.csv', sep=';', encoding='utf-8')\n",
    "dados_2018 = pd.read_csv('Dados/perfil_eleitorado_2018.csv', sep=';', encoding='latin-1')\n",
    "dados_2020 = pd.read_csv('Dados/perfil_eleitorado_2020.csv', sep=';', encoding='latin-1')"
   ]
  },
  {
   "cell_type": "code",
   "execution_count": 14,
   "metadata": {},
   "outputs": [
    {
     "output_type": "execute_result",
     "data": {
      "text/plain": [
       "   DT_GERACAO HH_GERACAO  ANO_ELEICAO SG_UF  CD_MUNICIPIO NM_MUNICIPIO  \\\n",
       "0  15/07/2020   13:50:03         2012    BA         38113        PRADO   \n",
       "1  15/07/2020   13:50:03         2012    BA         38113        PRADO   \n",
       "2  15/07/2020   13:50:03         2012    BA         38113        PRADO   \n",
       "3  15/07/2020   13:50:03         2012    BA         38113        PRADO   \n",
       "4  15/07/2020   13:50:03         2012    BA         38113        PRADO   \n",
       "\n",
       "   CD_MUN_SIT_BIOMETRIA DS_MUN_SIT_BIOMETRIA  NR_ZONA  CD_GENERO  ...  \\\n",
       "0                     0        Sem biometria      112          4  ...   \n",
       "1                     0        Sem biometria      112          4  ...   \n",
       "2                     0        Sem biometria      112          4  ...   \n",
       "3                     0        Sem biometria      112          4  ...   \n",
       "4                     0        Sem biometria      112          4  ...   \n",
       "\n",
       "  CD_ESTADO_CIVIL  DS_ESTADO_CIVIL CD_FAIXA_ETARIA  \\\n",
       "0               1         SOLTEIRO            1700   \n",
       "1               1         SOLTEIRO            1800   \n",
       "2               1         SOLTEIRO            1800   \n",
       "3               1         SOLTEIRO            1800   \n",
       "4               1         SOLTEIRO            1800   \n",
       "\n",
       "                  DS_FAIXA_ETARIA CD_GRAU_ESCOLARIDADE  \\\n",
       "0  17 anos                                           7   \n",
       "1  18 anos                                           1   \n",
       "2  18 anos                                           2   \n",
       "3  18 anos                                           3   \n",
       "4  18 anos                                           4   \n",
       "\n",
       "            DS_GRAU_ESCOLARIDADE QT_ELEITORES_PERFIL  QT_ELEITORES_BIOMETRIA  \\\n",
       "0            SUPERIOR INCOMPLETO                   3                       0   \n",
       "1                     ANALFABETO                   1                       0   \n",
       "2                   LÊ E ESCREVE                   2                       0   \n",
       "3  ENSINO FUNDAMENTAL INCOMPLETO                  67                       0   \n",
       "4    ENSINO FUNDAMENTAL COMPLETO                   6                       0   \n",
       "\n",
       "   QT_ELEITORES_DEFICIENCIA  QT_ELEITORES_INC_NM_SOCIAL  \n",
       "0                         0                           0  \n",
       "1                         0                           0  \n",
       "2                         0                           0  \n",
       "3                         0                           0  \n",
       "4                         0                           0  \n",
       "\n",
       "[5 rows x 21 columns]"
      ],
      "text/html": "<div>\n<style scoped>\n    .dataframe tbody tr th:only-of-type {\n        vertical-align: middle;\n    }\n\n    .dataframe tbody tr th {\n        vertical-align: top;\n    }\n\n    .dataframe thead th {\n        text-align: right;\n    }\n</style>\n<table border=\"1\" class=\"dataframe\">\n  <thead>\n    <tr style=\"text-align: right;\">\n      <th></th>\n      <th>DT_GERACAO</th>\n      <th>HH_GERACAO</th>\n      <th>ANO_ELEICAO</th>\n      <th>SG_UF</th>\n      <th>CD_MUNICIPIO</th>\n      <th>NM_MUNICIPIO</th>\n      <th>CD_MUN_SIT_BIOMETRIA</th>\n      <th>DS_MUN_SIT_BIOMETRIA</th>\n      <th>NR_ZONA</th>\n      <th>CD_GENERO</th>\n      <th>...</th>\n      <th>CD_ESTADO_CIVIL</th>\n      <th>DS_ESTADO_CIVIL</th>\n      <th>CD_FAIXA_ETARIA</th>\n      <th>DS_FAIXA_ETARIA</th>\n      <th>CD_GRAU_ESCOLARIDADE</th>\n      <th>DS_GRAU_ESCOLARIDADE</th>\n      <th>QT_ELEITORES_PERFIL</th>\n      <th>QT_ELEITORES_BIOMETRIA</th>\n      <th>QT_ELEITORES_DEFICIENCIA</th>\n      <th>QT_ELEITORES_INC_NM_SOCIAL</th>\n    </tr>\n  </thead>\n  <tbody>\n    <tr>\n      <th>0</th>\n      <td>15/07/2020</td>\n      <td>13:50:03</td>\n      <td>2012</td>\n      <td>BA</td>\n      <td>38113</td>\n      <td>PRADO</td>\n      <td>0</td>\n      <td>Sem biometria</td>\n      <td>112</td>\n      <td>4</td>\n      <td>...</td>\n      <td>1</td>\n      <td>SOLTEIRO</td>\n      <td>1700</td>\n      <td>17 anos</td>\n      <td>7</td>\n      <td>SUPERIOR INCOMPLETO</td>\n      <td>3</td>\n      <td>0</td>\n      <td>0</td>\n      <td>0</td>\n    </tr>\n    <tr>\n      <th>1</th>\n      <td>15/07/2020</td>\n      <td>13:50:03</td>\n      <td>2012</td>\n      <td>BA</td>\n      <td>38113</td>\n      <td>PRADO</td>\n      <td>0</td>\n      <td>Sem biometria</td>\n      <td>112</td>\n      <td>4</td>\n      <td>...</td>\n      <td>1</td>\n      <td>SOLTEIRO</td>\n      <td>1800</td>\n      <td>18 anos</td>\n      <td>1</td>\n      <td>ANALFABETO</td>\n      <td>1</td>\n      <td>0</td>\n      <td>0</td>\n      <td>0</td>\n    </tr>\n    <tr>\n      <th>2</th>\n      <td>15/07/2020</td>\n      <td>13:50:03</td>\n      <td>2012</td>\n      <td>BA</td>\n      <td>38113</td>\n      <td>PRADO</td>\n      <td>0</td>\n      <td>Sem biometria</td>\n      <td>112</td>\n      <td>4</td>\n      <td>...</td>\n      <td>1</td>\n      <td>SOLTEIRO</td>\n      <td>1800</td>\n      <td>18 anos</td>\n      <td>2</td>\n      <td>LÊ E ESCREVE</td>\n      <td>2</td>\n      <td>0</td>\n      <td>0</td>\n      <td>0</td>\n    </tr>\n    <tr>\n      <th>3</th>\n      <td>15/07/2020</td>\n      <td>13:50:03</td>\n      <td>2012</td>\n      <td>BA</td>\n      <td>38113</td>\n      <td>PRADO</td>\n      <td>0</td>\n      <td>Sem biometria</td>\n      <td>112</td>\n      <td>4</td>\n      <td>...</td>\n      <td>1</td>\n      <td>SOLTEIRO</td>\n      <td>1800</td>\n      <td>18 anos</td>\n      <td>3</td>\n      <td>ENSINO FUNDAMENTAL INCOMPLETO</td>\n      <td>67</td>\n      <td>0</td>\n      <td>0</td>\n      <td>0</td>\n    </tr>\n    <tr>\n      <th>4</th>\n      <td>15/07/2020</td>\n      <td>13:50:03</td>\n      <td>2012</td>\n      <td>BA</td>\n      <td>38113</td>\n      <td>PRADO</td>\n      <td>0</td>\n      <td>Sem biometria</td>\n      <td>112</td>\n      <td>4</td>\n      <td>...</td>\n      <td>1</td>\n      <td>SOLTEIRO</td>\n      <td>1800</td>\n      <td>18 anos</td>\n      <td>4</td>\n      <td>ENSINO FUNDAMENTAL COMPLETO</td>\n      <td>6</td>\n      <td>0</td>\n      <td>0</td>\n      <td>0</td>\n    </tr>\n  </tbody>\n</table>\n<p>5 rows × 21 columns</p>\n</div>"
     },
     "metadata": {},
     "execution_count": 14
    }
   ],
   "source": [
    "dados_2012.head()"
   ]
  },
  {
   "cell_type": "code",
   "execution_count": 15,
   "metadata": {},
   "outputs": [
    {
     "output_type": "execute_result",
     "data": {
      "text/plain": [
       "   201407  AC  ACRELÂNDIA  1120  8  FEMININO  16 ANOS  \\\n",
       "0  201407  AC  ACRELÂNDIA  1120  8  FEMININO  16 ANOS   \n",
       "1  201407  AC  ACRELÂNDIA  1120  8  FEMININO  16 ANOS   \n",
       "2  201407  AC  ACRELÂNDIA  1120  8  FEMININO  16 ANOS   \n",
       "3  201407  AC  ACRELÂNDIA  1120  8  FEMININO  16 ANOS   \n",
       "4  201407  AC  ACRELÂNDIA  1120  8  FEMININO  17 ANOS   \n",
       "\n",
       "   ENSINO FUNDAMENTAL COMPLETO   1  \n",
       "0        ENSINO MÉDIO COMPLETO   1  \n",
       "1      ENSINO MÉDIO INCOMPLETO  23  \n",
       "2                 LÊ E ESCREVE   2  \n",
       "3          SUPERIOR INCOMPLETO   1  \n",
       "4  ENSINO FUNDAMENTAL COMPLETO   5  "
      ],
      "text/html": "<div>\n<style scoped>\n    .dataframe tbody tr th:only-of-type {\n        vertical-align: middle;\n    }\n\n    .dataframe tbody tr th {\n        vertical-align: top;\n    }\n\n    .dataframe thead th {\n        text-align: right;\n    }\n</style>\n<table border=\"1\" class=\"dataframe\">\n  <thead>\n    <tr style=\"text-align: right;\">\n      <th></th>\n      <th>201407</th>\n      <th>AC</th>\n      <th>ACRELÂNDIA</th>\n      <th>1120</th>\n      <th>8</th>\n      <th>FEMININO</th>\n      <th>16 ANOS</th>\n      <th>ENSINO FUNDAMENTAL COMPLETO</th>\n      <th>1</th>\n    </tr>\n  </thead>\n  <tbody>\n    <tr>\n      <th>0</th>\n      <td>201407</td>\n      <td>AC</td>\n      <td>ACRELÂNDIA</td>\n      <td>1120</td>\n      <td>8</td>\n      <td>FEMININO</td>\n      <td>16 ANOS</td>\n      <td>ENSINO MÉDIO COMPLETO</td>\n      <td>1</td>\n    </tr>\n    <tr>\n      <th>1</th>\n      <td>201407</td>\n      <td>AC</td>\n      <td>ACRELÂNDIA</td>\n      <td>1120</td>\n      <td>8</td>\n      <td>FEMININO</td>\n      <td>16 ANOS</td>\n      <td>ENSINO MÉDIO INCOMPLETO</td>\n      <td>23</td>\n    </tr>\n    <tr>\n      <th>2</th>\n      <td>201407</td>\n      <td>AC</td>\n      <td>ACRELÂNDIA</td>\n      <td>1120</td>\n      <td>8</td>\n      <td>FEMININO</td>\n      <td>16 ANOS</td>\n      <td>LÊ E ESCREVE</td>\n      <td>2</td>\n    </tr>\n    <tr>\n      <th>3</th>\n      <td>201407</td>\n      <td>AC</td>\n      <td>ACRELÂNDIA</td>\n      <td>1120</td>\n      <td>8</td>\n      <td>FEMININO</td>\n      <td>16 ANOS</td>\n      <td>SUPERIOR INCOMPLETO</td>\n      <td>1</td>\n    </tr>\n    <tr>\n      <th>4</th>\n      <td>201407</td>\n      <td>AC</td>\n      <td>ACRELÂNDIA</td>\n      <td>1120</td>\n      <td>8</td>\n      <td>FEMININO</td>\n      <td>17 ANOS</td>\n      <td>ENSINO FUNDAMENTAL COMPLETO</td>\n      <td>5</td>\n    </tr>\n  </tbody>\n</table>\n</div>"
     },
     "metadata": {},
     "execution_count": 15
    }
   ],
   "source": [
    "dados_2014.head()"
   ]
  },
  {
   "cell_type": "code",
   "execution_count": 16,
   "metadata": {},
   "outputs": [
    {
     "output_type": "execute_result",
     "data": {
      "text/plain": [
       "   2016  AC  ACRELÂNDIA  1120  8  FEMININO  16 ANOS  \\\n",
       "0  2016  AC  ACRELÂNDIA  1120  8  FEMININO  16 ANOS   \n",
       "1  2016  AC  ACRELÂNDIA  1120  8  FEMININO  16 ANOS   \n",
       "2  2016  AC  ACRELÂNDIA  1120  8  FEMININO  16 ANOS   \n",
       "3  2016  AC  ACRELÂNDIA  1120  8  FEMININO  16 ANOS   \n",
       "4  2016  AC  ACRELÂNDIA  1120  8  FEMININO  17 ANOS   \n",
       "\n",
       "     ENSINO FUNDAMENTAL COMPLETO   5  \n",
       "0  ENSINO FUNDAMENTAL INCOMPLETO   9  \n",
       "1          ENSINO MÉDIO COMPLETO   1  \n",
       "2        ENSINO MÉDIO INCOMPLETO  33  \n",
       "3            SUPERIOR INCOMPLETO   1  \n",
       "4    ENSINO FUNDAMENTAL COMPLETO   9  "
      ],
      "text/html": "<div>\n<style scoped>\n    .dataframe tbody tr th:only-of-type {\n        vertical-align: middle;\n    }\n\n    .dataframe tbody tr th {\n        vertical-align: top;\n    }\n\n    .dataframe thead th {\n        text-align: right;\n    }\n</style>\n<table border=\"1\" class=\"dataframe\">\n  <thead>\n    <tr style=\"text-align: right;\">\n      <th></th>\n      <th>2016</th>\n      <th>AC</th>\n      <th>ACRELÂNDIA</th>\n      <th>1120</th>\n      <th>8</th>\n      <th>FEMININO</th>\n      <th>16 ANOS</th>\n      <th>ENSINO FUNDAMENTAL COMPLETO</th>\n      <th>5</th>\n    </tr>\n  </thead>\n  <tbody>\n    <tr>\n      <th>0</th>\n      <td>2016</td>\n      <td>AC</td>\n      <td>ACRELÂNDIA</td>\n      <td>1120</td>\n      <td>8</td>\n      <td>FEMININO</td>\n      <td>16 ANOS</td>\n      <td>ENSINO FUNDAMENTAL INCOMPLETO</td>\n      <td>9</td>\n    </tr>\n    <tr>\n      <th>1</th>\n      <td>2016</td>\n      <td>AC</td>\n      <td>ACRELÂNDIA</td>\n      <td>1120</td>\n      <td>8</td>\n      <td>FEMININO</td>\n      <td>16 ANOS</td>\n      <td>ENSINO MÉDIO COMPLETO</td>\n      <td>1</td>\n    </tr>\n    <tr>\n      <th>2</th>\n      <td>2016</td>\n      <td>AC</td>\n      <td>ACRELÂNDIA</td>\n      <td>1120</td>\n      <td>8</td>\n      <td>FEMININO</td>\n      <td>16 ANOS</td>\n      <td>ENSINO MÉDIO INCOMPLETO</td>\n      <td>33</td>\n    </tr>\n    <tr>\n      <th>3</th>\n      <td>2016</td>\n      <td>AC</td>\n      <td>ACRELÂNDIA</td>\n      <td>1120</td>\n      <td>8</td>\n      <td>FEMININO</td>\n      <td>16 ANOS</td>\n      <td>SUPERIOR INCOMPLETO</td>\n      <td>1</td>\n    </tr>\n    <tr>\n      <th>4</th>\n      <td>2016</td>\n      <td>AC</td>\n      <td>ACRELÂNDIA</td>\n      <td>1120</td>\n      <td>8</td>\n      <td>FEMININO</td>\n      <td>17 ANOS</td>\n      <td>ENSINO FUNDAMENTAL COMPLETO</td>\n      <td>9</td>\n    </tr>\n  </tbody>\n</table>\n</div>"
     },
     "metadata": {},
     "execution_count": 16
    }
   ],
   "source": [
    "dados_2016.head()"
   ]
  },
  {
   "cell_type": "code",
   "execution_count": 17,
   "metadata": {},
   "outputs": [
    {
     "output_type": "execute_result",
     "data": {
      "text/plain": [
       "   DT_GERACAO HH_GERACAO  ANO_ELEICAO SG_UF  CD_MUNICIPIO  \\\n",
       "0  17/09/2018   23:21:37         2018    TO         73539   \n",
       "1  17/09/2018   23:21:37         2018    TO         73539   \n",
       "2  17/09/2018   23:21:37         2018    TO         73539   \n",
       "3  17/09/2018   23:21:37         2018    TO         73539   \n",
       "4  17/09/2018   23:21:37         2018    TO         73539   \n",
       "\n",
       "                   NM_MUNICIPIO  CD_MUN_SIT_BIOMETRIA DS_MUN_SIT_BIOMETRIA  \\\n",
       "0  SANTA TEREZINHA DO TOCANTINS                     1           Biométrico   \n",
       "1  SANTA TEREZINHA DO TOCANTINS                     1           Biométrico   \n",
       "2  SANTA TEREZINHA DO TOCANTINS                     1           Biométrico   \n",
       "3  SANTA TEREZINHA DO TOCANTINS                     1           Biométrico   \n",
       "4  SANTA TEREZINHA DO TOCANTINS                     1           Biométrico   \n",
       "\n",
       "   NR_ZONA  CD_GENERO  ... CD_ESTADO_CIVIL         DS_ESTADO_CIVIL  \\\n",
       "0        9          2  ...               3                  CASADO   \n",
       "1        9          2  ...               3                  CASADO   \n",
       "2        9          2  ...               7  SEPARADO JUDICIALMENTE   \n",
       "3        9          2  ...               9              DIVORCIADO   \n",
       "4        9          2  ...               9              DIVORCIADO   \n",
       "\n",
       "  CD_FAIXA_ETARIA                 DS_FAIXA_ETARIA CD_GRAU_ESCOLARIDADE  \\\n",
       "0            7579  75 a 79 anos                                      2   \n",
       "1            7579  75 a 79 anos                                      3   \n",
       "2            5054  50 a 54 anos                                      3   \n",
       "3            4044  40 a 44 anos                                      4   \n",
       "4            4549  45 a 49 anos                                      3   \n",
       "\n",
       "            DS_GRAU_ESCOLARIDADE QT_ELEITORES_PERFIL  QT_ELEITORES_BIOMETRIA  \\\n",
       "0                   LÊ E ESCREVE                  10                      10   \n",
       "1  ENSINO FUNDAMENTAL INCOMPLETO                   2                       2   \n",
       "2  ENSINO FUNDAMENTAL INCOMPLETO                   1                       1   \n",
       "3    ENSINO FUNDAMENTAL COMPLETO                   1                       1   \n",
       "4  ENSINO FUNDAMENTAL INCOMPLETO                   3                       3   \n",
       "\n",
       "   QT_ELEITORES_DEFICIENCIA  QT_ELEITORES_INC_NM_SOCIAL  \n",
       "0                         1                           0  \n",
       "1                         1                           0  \n",
       "2                         0                           0  \n",
       "3                         0                           0  \n",
       "4                         0                           0  \n",
       "\n",
       "[5 rows x 21 columns]"
      ],
      "text/html": "<div>\n<style scoped>\n    .dataframe tbody tr th:only-of-type {\n        vertical-align: middle;\n    }\n\n    .dataframe tbody tr th {\n        vertical-align: top;\n    }\n\n    .dataframe thead th {\n        text-align: right;\n    }\n</style>\n<table border=\"1\" class=\"dataframe\">\n  <thead>\n    <tr style=\"text-align: right;\">\n      <th></th>\n      <th>DT_GERACAO</th>\n      <th>HH_GERACAO</th>\n      <th>ANO_ELEICAO</th>\n      <th>SG_UF</th>\n      <th>CD_MUNICIPIO</th>\n      <th>NM_MUNICIPIO</th>\n      <th>CD_MUN_SIT_BIOMETRIA</th>\n      <th>DS_MUN_SIT_BIOMETRIA</th>\n      <th>NR_ZONA</th>\n      <th>CD_GENERO</th>\n      <th>...</th>\n      <th>CD_ESTADO_CIVIL</th>\n      <th>DS_ESTADO_CIVIL</th>\n      <th>CD_FAIXA_ETARIA</th>\n      <th>DS_FAIXA_ETARIA</th>\n      <th>CD_GRAU_ESCOLARIDADE</th>\n      <th>DS_GRAU_ESCOLARIDADE</th>\n      <th>QT_ELEITORES_PERFIL</th>\n      <th>QT_ELEITORES_BIOMETRIA</th>\n      <th>QT_ELEITORES_DEFICIENCIA</th>\n      <th>QT_ELEITORES_INC_NM_SOCIAL</th>\n    </tr>\n  </thead>\n  <tbody>\n    <tr>\n      <th>0</th>\n      <td>17/09/2018</td>\n      <td>23:21:37</td>\n      <td>2018</td>\n      <td>TO</td>\n      <td>73539</td>\n      <td>SANTA TEREZINHA DO TOCANTINS</td>\n      <td>1</td>\n      <td>Biométrico</td>\n      <td>9</td>\n      <td>2</td>\n      <td>...</td>\n      <td>3</td>\n      <td>CASADO</td>\n      <td>7579</td>\n      <td>75 a 79 anos</td>\n      <td>2</td>\n      <td>LÊ E ESCREVE</td>\n      <td>10</td>\n      <td>10</td>\n      <td>1</td>\n      <td>0</td>\n    </tr>\n    <tr>\n      <th>1</th>\n      <td>17/09/2018</td>\n      <td>23:21:37</td>\n      <td>2018</td>\n      <td>TO</td>\n      <td>73539</td>\n      <td>SANTA TEREZINHA DO TOCANTINS</td>\n      <td>1</td>\n      <td>Biométrico</td>\n      <td>9</td>\n      <td>2</td>\n      <td>...</td>\n      <td>3</td>\n      <td>CASADO</td>\n      <td>7579</td>\n      <td>75 a 79 anos</td>\n      <td>3</td>\n      <td>ENSINO FUNDAMENTAL INCOMPLETO</td>\n      <td>2</td>\n      <td>2</td>\n      <td>1</td>\n      <td>0</td>\n    </tr>\n    <tr>\n      <th>2</th>\n      <td>17/09/2018</td>\n      <td>23:21:37</td>\n      <td>2018</td>\n      <td>TO</td>\n      <td>73539</td>\n      <td>SANTA TEREZINHA DO TOCANTINS</td>\n      <td>1</td>\n      <td>Biométrico</td>\n      <td>9</td>\n      <td>2</td>\n      <td>...</td>\n      <td>7</td>\n      <td>SEPARADO JUDICIALMENTE</td>\n      <td>5054</td>\n      <td>50 a 54 anos</td>\n      <td>3</td>\n      <td>ENSINO FUNDAMENTAL INCOMPLETO</td>\n      <td>1</td>\n      <td>1</td>\n      <td>0</td>\n      <td>0</td>\n    </tr>\n    <tr>\n      <th>3</th>\n      <td>17/09/2018</td>\n      <td>23:21:37</td>\n      <td>2018</td>\n      <td>TO</td>\n      <td>73539</td>\n      <td>SANTA TEREZINHA DO TOCANTINS</td>\n      <td>1</td>\n      <td>Biométrico</td>\n      <td>9</td>\n      <td>2</td>\n      <td>...</td>\n      <td>9</td>\n      <td>DIVORCIADO</td>\n      <td>4044</td>\n      <td>40 a 44 anos</td>\n      <td>4</td>\n      <td>ENSINO FUNDAMENTAL COMPLETO</td>\n      <td>1</td>\n      <td>1</td>\n      <td>0</td>\n      <td>0</td>\n    </tr>\n    <tr>\n      <th>4</th>\n      <td>17/09/2018</td>\n      <td>23:21:37</td>\n      <td>2018</td>\n      <td>TO</td>\n      <td>73539</td>\n      <td>SANTA TEREZINHA DO TOCANTINS</td>\n      <td>1</td>\n      <td>Biométrico</td>\n      <td>9</td>\n      <td>2</td>\n      <td>...</td>\n      <td>9</td>\n      <td>DIVORCIADO</td>\n      <td>4549</td>\n      <td>45 a 49 anos</td>\n      <td>3</td>\n      <td>ENSINO FUNDAMENTAL INCOMPLETO</td>\n      <td>3</td>\n      <td>3</td>\n      <td>0</td>\n      <td>0</td>\n    </tr>\n  </tbody>\n</table>\n<p>5 rows × 21 columns</p>\n</div>"
     },
     "metadata": {},
     "execution_count": 17
    }
   ],
   "source": [
    "dados_2018.head()"
   ]
  },
  {
   "cell_type": "code",
   "execution_count": 18,
   "metadata": {},
   "outputs": [
    {
     "output_type": "execute_result",
     "data": {
      "text/plain": [
       "   DT_GERACAO HH_GERACAO  ANO_ELEICAO SG_UF  CD_MUNICIPIO NM_MUNICIPIO  \\\n",
       "0  10/09/2020   23:04:11         2020    SP         71072    SÃO PAULO   \n",
       "1  10/09/2020   23:04:11         2020    SP         71072    SÃO PAULO   \n",
       "2  10/09/2020   23:04:11         2020    SP         71072    SÃO PAULO   \n",
       "3  10/09/2020   23:04:11         2020    SP         71072    SÃO PAULO   \n",
       "4  10/09/2020   23:04:11         2020    SP         71072    SÃO PAULO   \n",
       "\n",
       "   CD_MUN_SIT_BIOMETRIA DS_MUN_SIT_BIOMETRIA  NR_ZONA  CD_GENERO  ...  \\\n",
       "0                     0        Sem biometria      257          4  ...   \n",
       "1                     0        Sem biometria      257          4  ...   \n",
       "2                     0        Sem biometria      257          4  ...   \n",
       "3                     0        Sem biometria      257          4  ...   \n",
       "4                     0        Sem biometria      257          4  ...   \n",
       "\n",
       "  CD_ESTADO_CIVIL  DS_ESTADO_CIVIL CD_FAIXA_ETARIA  \\\n",
       "0               3           CASADO            9094   \n",
       "1               3           CASADO            9094   \n",
       "2               3           CASADO            9094   \n",
       "3               3           CASADO            9599   \n",
       "4               3           CASADO            9599   \n",
       "\n",
       "                  DS_FAIXA_ETARIA CD_GRAU_ESCOLARIDADE   DS_GRAU_ESCOLARIDADE  \\\n",
       "0  90 a 94 anos                                      6  ENSINO MÉDIO COMPLETO   \n",
       "1  90 a 94 anos                                      7    SUPERIOR INCOMPLETO   \n",
       "2  90 a 94 anos                                      8      SUPERIOR COMPLETO   \n",
       "3  95 a 99 anos                                      1             ANALFABETO   \n",
       "4  95 a 99 anos                                      2           LÊ E ESCREVE   \n",
       "\n",
       "  QT_ELEITORES_PERFIL  QT_ELEITORES_BIOMETRIA  QT_ELEITORES_DEFICIENCIA  \\\n",
       "0                  17                       1                         1   \n",
       "1                   1                       0                         0   \n",
       "2                   8                       0                         0   \n",
       "3                  28                       0                         0   \n",
       "4                 149                       0                         0   \n",
       "\n",
       "   QT_ELEITORES_INC_NM_SOCIAL  \n",
       "0                           0  \n",
       "1                           0  \n",
       "2                           0  \n",
       "3                           0  \n",
       "4                           0  \n",
       "\n",
       "[5 rows x 21 columns]"
      ],
      "text/html": "<div>\n<style scoped>\n    .dataframe tbody tr th:only-of-type {\n        vertical-align: middle;\n    }\n\n    .dataframe tbody tr th {\n        vertical-align: top;\n    }\n\n    .dataframe thead th {\n        text-align: right;\n    }\n</style>\n<table border=\"1\" class=\"dataframe\">\n  <thead>\n    <tr style=\"text-align: right;\">\n      <th></th>\n      <th>DT_GERACAO</th>\n      <th>HH_GERACAO</th>\n      <th>ANO_ELEICAO</th>\n      <th>SG_UF</th>\n      <th>CD_MUNICIPIO</th>\n      <th>NM_MUNICIPIO</th>\n      <th>CD_MUN_SIT_BIOMETRIA</th>\n      <th>DS_MUN_SIT_BIOMETRIA</th>\n      <th>NR_ZONA</th>\n      <th>CD_GENERO</th>\n      <th>...</th>\n      <th>CD_ESTADO_CIVIL</th>\n      <th>DS_ESTADO_CIVIL</th>\n      <th>CD_FAIXA_ETARIA</th>\n      <th>DS_FAIXA_ETARIA</th>\n      <th>CD_GRAU_ESCOLARIDADE</th>\n      <th>DS_GRAU_ESCOLARIDADE</th>\n      <th>QT_ELEITORES_PERFIL</th>\n      <th>QT_ELEITORES_BIOMETRIA</th>\n      <th>QT_ELEITORES_DEFICIENCIA</th>\n      <th>QT_ELEITORES_INC_NM_SOCIAL</th>\n    </tr>\n  </thead>\n  <tbody>\n    <tr>\n      <th>0</th>\n      <td>10/09/2020</td>\n      <td>23:04:11</td>\n      <td>2020</td>\n      <td>SP</td>\n      <td>71072</td>\n      <td>SÃO PAULO</td>\n      <td>0</td>\n      <td>Sem biometria</td>\n      <td>257</td>\n      <td>4</td>\n      <td>...</td>\n      <td>3</td>\n      <td>CASADO</td>\n      <td>9094</td>\n      <td>90 a 94 anos</td>\n      <td>6</td>\n      <td>ENSINO MÉDIO COMPLETO</td>\n      <td>17</td>\n      <td>1</td>\n      <td>1</td>\n      <td>0</td>\n    </tr>\n    <tr>\n      <th>1</th>\n      <td>10/09/2020</td>\n      <td>23:04:11</td>\n      <td>2020</td>\n      <td>SP</td>\n      <td>71072</td>\n      <td>SÃO PAULO</td>\n      <td>0</td>\n      <td>Sem biometria</td>\n      <td>257</td>\n      <td>4</td>\n      <td>...</td>\n      <td>3</td>\n      <td>CASADO</td>\n      <td>9094</td>\n      <td>90 a 94 anos</td>\n      <td>7</td>\n      <td>SUPERIOR INCOMPLETO</td>\n      <td>1</td>\n      <td>0</td>\n      <td>0</td>\n      <td>0</td>\n    </tr>\n    <tr>\n      <th>2</th>\n      <td>10/09/2020</td>\n      <td>23:04:11</td>\n      <td>2020</td>\n      <td>SP</td>\n      <td>71072</td>\n      <td>SÃO PAULO</td>\n      <td>0</td>\n      <td>Sem biometria</td>\n      <td>257</td>\n      <td>4</td>\n      <td>...</td>\n      <td>3</td>\n      <td>CASADO</td>\n      <td>9094</td>\n      <td>90 a 94 anos</td>\n      <td>8</td>\n      <td>SUPERIOR COMPLETO</td>\n      <td>8</td>\n      <td>0</td>\n      <td>0</td>\n      <td>0</td>\n    </tr>\n    <tr>\n      <th>3</th>\n      <td>10/09/2020</td>\n      <td>23:04:11</td>\n      <td>2020</td>\n      <td>SP</td>\n      <td>71072</td>\n      <td>SÃO PAULO</td>\n      <td>0</td>\n      <td>Sem biometria</td>\n      <td>257</td>\n      <td>4</td>\n      <td>...</td>\n      <td>3</td>\n      <td>CASADO</td>\n      <td>9599</td>\n      <td>95 a 99 anos</td>\n      <td>1</td>\n      <td>ANALFABETO</td>\n      <td>28</td>\n      <td>0</td>\n      <td>0</td>\n      <td>0</td>\n    </tr>\n    <tr>\n      <th>4</th>\n      <td>10/09/2020</td>\n      <td>23:04:11</td>\n      <td>2020</td>\n      <td>SP</td>\n      <td>71072</td>\n      <td>SÃO PAULO</td>\n      <td>0</td>\n      <td>Sem biometria</td>\n      <td>257</td>\n      <td>4</td>\n      <td>...</td>\n      <td>3</td>\n      <td>CASADO</td>\n      <td>9599</td>\n      <td>95 a 99 anos</td>\n      <td>2</td>\n      <td>LÊ E ESCREVE</td>\n      <td>149</td>\n      <td>0</td>\n      <td>0</td>\n      <td>0</td>\n    </tr>\n  </tbody>\n</table>\n<p>5 rows × 21 columns</p>\n</div>"
     },
     "metadata": {},
     "execution_count": 18
    }
   ],
   "source": [
    "dados_2020.head()"
   ]
  },
  {
   "cell_type": "code",
   "execution_count": 19,
   "metadata": {},
   "outputs": [
    {
     "output_type": "execute_result",
     "data": {
      "text/plain": [
       "array(['DT_GERACAO', 'HH_GERACAO', 'ANO_ELEICAO', 'SG_UF', 'CD_MUNICIPIO',\n",
       "       'NM_MUNICIPIO', 'CD_MUN_SIT_BIOMETRIA', 'DS_MUN_SIT_BIOMETRIA',\n",
       "       'NR_ZONA', 'CD_GENERO', 'DS_GENERO', 'CD_ESTADO_CIVIL',\n",
       "       'DS_ESTADO_CIVIL', 'CD_FAIXA_ETARIA', 'DS_FAIXA_ETARIA',\n",
       "       'CD_GRAU_ESCOLARIDADE', 'DS_GRAU_ESCOLARIDADE',\n",
       "       'QT_ELEITORES_PERFIL', 'QT_ELEITORES_BIOMETRIA',\n",
       "       'QT_ELEITORES_DEFICIENCIA', 'QT_ELEITORES_INC_NM_SOCIAL'],\n",
       "      dtype=object)"
      ]
     },
     "metadata": {},
     "execution_count": 19
    }
   ],
   "source": [
    "dados_2012.columns.values"
   ]
  },
  {
   "cell_type": "code",
   "execution_count": 8,
   "metadata": {},
   "outputs": [
    {
     "output_type": "execute_result",
     "data": {
      "text/plain": [
       "array(['DT_GERACAO', 'HH_GERACAO', 'ANO_ELEICAO', 'SG_UF', 'CD_MUNICIPIO',\n",
       "       'NM_MUNICIPIO', 'CD_MUN_SIT_BIOMETRIA', 'DS_MUN_SIT_BIOMETRIA',\n",
       "       'NR_ZONA', 'CD_GENERO', 'DS_GENERO', 'CD_ESTADO_CIVIL',\n",
       "       'DS_ESTADO_CIVIL', 'CD_FAIXA_ETARIA', 'DS_FAIXA_ETARIA',\n",
       "       'CD_GRAU_ESCOLARIDADE', 'DS_GRAU_ESCOLARIDADE',\n",
       "       'QT_ELEITORES_PERFIL', 'QT_ELEITORES_BIOMETRIA',\n",
       "       'QT_ELEITORES_DEFICIENCIA', 'QT_ELEITORES_INC_NM_SOCIAL'],\n",
       "      dtype=object)"
      ]
     },
     "metadata": {},
     "execution_count": 8
    }
   ],
   "source": [
    "dados_2020.columns.values"
   ]
  },
  {
   "cell_type": "code",
   "execution_count": 38,
   "metadata": {},
   "outputs": [],
   "source": [
    "colunasSelecionadas = ['HH_GERACAO', 'SG_UF', 'NM_MUNICIPIO', 'CD_MUNICIPIO', 'NR_ZONA',\n",
    "       'DS_GENERO', 'DS_FAIXA_ETARIA', 'DS_GRAU_ESCOLARIDADE',\n",
    "       'QT_ELEITORES_PERFIL']"
   ]
  },
  {
   "cell_type": "code",
   "execution_count": 39,
   "metadata": {},
   "outputs": [],
   "source": [
    "dados_2012_Selecionados = dados_2012.filter(items=colunasSelecionadas)"
   ]
  },
  {
   "cell_type": "code",
   "execution_count": 40,
   "metadata": {},
   "outputs": [],
   "source": [
    "dados_2014_Selecionados = dados_2014.filter(items=colunasSelecionadas)"
   ]
  },
  {
   "cell_type": "code",
   "execution_count": 41,
   "metadata": {},
   "outputs": [],
   "source": [
    "dados_2016_Selecionados = dados_2016.filter(items=colunasSelecionadas)"
   ]
  },
  {
   "cell_type": "code",
   "execution_count": 42,
   "metadata": {},
   "outputs": [],
   "source": [
    "dados_2018_Selecionados = dados_2018.filter(items=colunasSelecionadas)"
   ]
  },
  {
   "cell_type": "code",
   "execution_count": 43,
   "metadata": {},
   "outputs": [],
   "source": [
    "dados_2020_Selecionados = dados_2020.filter(items=colunasSelecionadas)"
   ]
  },
  {
   "cell_type": "code",
   "execution_count": 52,
   "metadata": {},
   "outputs": [
    {
     "output_type": "execute_result",
     "data": {
      "text/plain": [
       "array(['SG_UF', 'CD_MUNICIPIO', 'NM_MUNICIPIO', 'CD_GENERO', 'DS_GENERO',\n",
       "       'CD_FAIXA_ETARIA', 'DS_FAIXA_ETARIA', 'CD_GRAU_ESCOLARIDADE',\n",
       "       'DS_GRAU_ESCOLARIDADE', 'QT_ELEITORES_PERFIL'], dtype=object)"
      ]
     },
     "metadata": {},
     "execution_count": 52
    }
   ],
   "source": [
    "dados_2012_Selecionados.columns.values"
   ]
  },
  {
   "cell_type": "code",
   "execution_count": 49,
   "metadata": {},
   "outputs": [
    {
     "output_type": "execute_result",
     "data": {
      "text/plain": [
       "array(['SG_UF', 'CD_MUNICIPIO', 'NM_MUNICIPIO', 'CD_GENERO', 'DS_GENERO',\n",
       "       'CD_FAIXA_ETARIA', 'DS_FAIXA_ETARIA', 'CD_GRAU_ESCOLARIDADE',\n",
       "       'DS_GRAU_ESCOLARIDADE', 'QT_ELEITORES_PERFIL'], dtype=object)"
      ]
     },
     "metadata": {},
     "execution_count": 49
    }
   ],
   "source": [
    "dados_2018_Selecionados.columns.values"
   ]
  },
  {
   "cell_type": "code",
   "execution_count": 53,
   "metadata": {},
   "outputs": [
    {
     "output_type": "execute_result",
     "data": {
      "text/plain": [
       "array(['SG_UF', 'CD_MUNICIPIO', 'NM_MUNICIPIO', 'CD_GENERO', 'DS_GENERO',\n",
       "       'CD_FAIXA_ETARIA', 'DS_FAIXA_ETARIA', 'CD_GRAU_ESCOLARIDADE',\n",
       "       'DS_GRAU_ESCOLARIDADE', 'QT_ELEITORES_PERFIL'], dtype=object)"
      ]
     },
     "metadata": {},
     "execution_count": 53
    }
   ],
   "source": [
    "dados_2020_Selecionados.columns.values"
   ]
  },
  {
   "cell_type": "code",
   "execution_count": 7,
   "metadata": {},
   "outputs": [
    {
     "output_type": "execute_result",
     "data": {
      "text/plain": [
       "Index(['DT_GERACAO', 'HH_GERACAO', 'ANO_ELEICAO', 'SG_UF', 'CD_MUNICIPIO',\n",
       "       'NM_MUNICIPIO', 'CD_MUN_SIT_BIOMETRIA', 'DS_MUN_SIT_BIOMETRIA',\n",
       "       'NR_ZONA', 'CD_GENERO', 'DS_GENERO', 'CD_ESTADO_CIVIL',\n",
       "       'DS_ESTADO_CIVIL', 'CD_FAIXA_ETARIA', 'DS_FAIXA_ETARIA',\n",
       "       'CD_GRAU_ESCOLARIDADE', 'DS_GRAU_ESCOLARIDADE', 'QT_ELEITORES_PERFIL',\n",
       "       'QT_ELEITORES_BIOMETRIA', 'QT_ELEITORES_DEFICIENCIA',\n",
       "       'QT_ELEITORES_INC_NM_SOCIAL'],\n",
       "      dtype='object')"
      ]
     },
     "metadata": {},
     "execution_count": 7
    }
   ],
   "source": [
    "dados_2018.columns"
   ]
  },
  {
   "cell_type": "code",
   "execution_count": 44,
   "metadata": {},
   "outputs": [
    {
     "output_type": "execute_result",
     "data": {
      "text/plain": [
       "        HH_GERACAO SG_UF NM_MUNICIPIO  CD_MUNICIPIO  NR_ZONA DS_GENERO  \\\n",
       "0         23:04:11    SP    SÃO PAULO         71072      257  FEMININO   \n",
       "1         23:04:11    SP    SÃO PAULO         71072      257  FEMININO   \n",
       "2         23:04:11    SP    SÃO PAULO         71072      257  FEMININO   \n",
       "3         23:04:11    SP    SÃO PAULO         71072      257  FEMININO   \n",
       "4         23:04:11    SP    SÃO PAULO         71072      257  FEMININO   \n",
       "...            ...   ...          ...           ...      ...       ...   \n",
       "4248089   23:04:11    BA   BURITIRAMA         30791       77  FEMININO   \n",
       "4248090   23:04:11    BA   BURITIRAMA         30791       77  FEMININO   \n",
       "4248091   23:04:11    BA   BURITIRAMA         30791       77  FEMININO   \n",
       "4248092   23:04:11    BA   BURITIRAMA         30791       77  FEMININO   \n",
       "4248093   23:04:11    BA   BURITIRAMA         30791       77  FEMININO   \n",
       "\n",
       "                        DS_FAIXA_ETARIA           DS_GRAU_ESCOLARIDADE  \\\n",
       "0        90 a 94 anos                            ENSINO MÉDIO COMPLETO   \n",
       "1        90 a 94 anos                              SUPERIOR INCOMPLETO   \n",
       "2        90 a 94 anos                                SUPERIOR COMPLETO   \n",
       "3        95 a 99 anos                                       ANALFABETO   \n",
       "4        95 a 99 anos                                     LÊ E ESCREVE   \n",
       "...                                 ...                            ...   \n",
       "4248089  45 a 49 anos                                       ANALFABETO   \n",
       "4248090  45 a 49 anos                                     LÊ E ESCREVE   \n",
       "4248091  45 a 49 anos                    ENSINO FUNDAMENTAL INCOMPLETO   \n",
       "4248092  45 a 49 anos                      ENSINO FUNDAMENTAL COMPLETO   \n",
       "4248093  45 a 49 anos                          ENSINO MÉDIO INCOMPLETO   \n",
       "\n",
       "         QT_ELEITORES_PERFIL  \n",
       "0                         17  \n",
       "1                          1  \n",
       "2                          8  \n",
       "3                         28  \n",
       "4                        149  \n",
       "...                      ...  \n",
       "4248089                   26  \n",
       "4248090                  116  \n",
       "4248091                   95  \n",
       "4248092                    8  \n",
       "4248093                    3  \n",
       "\n",
       "[4248094 rows x 9 columns]"
      ],
      "text/html": "<div>\n<style scoped>\n    .dataframe tbody tr th:only-of-type {\n        vertical-align: middle;\n    }\n\n    .dataframe tbody tr th {\n        vertical-align: top;\n    }\n\n    .dataframe thead th {\n        text-align: right;\n    }\n</style>\n<table border=\"1\" class=\"dataframe\">\n  <thead>\n    <tr style=\"text-align: right;\">\n      <th></th>\n      <th>HH_GERACAO</th>\n      <th>SG_UF</th>\n      <th>NM_MUNICIPIO</th>\n      <th>CD_MUNICIPIO</th>\n      <th>NR_ZONA</th>\n      <th>DS_GENERO</th>\n      <th>DS_FAIXA_ETARIA</th>\n      <th>DS_GRAU_ESCOLARIDADE</th>\n      <th>QT_ELEITORES_PERFIL</th>\n    </tr>\n  </thead>\n  <tbody>\n    <tr>\n      <th>0</th>\n      <td>23:04:11</td>\n      <td>SP</td>\n      <td>SÃO PAULO</td>\n      <td>71072</td>\n      <td>257</td>\n      <td>FEMININO</td>\n      <td>90 a 94 anos</td>\n      <td>ENSINO MÉDIO COMPLETO</td>\n      <td>17</td>\n    </tr>\n    <tr>\n      <th>1</th>\n      <td>23:04:11</td>\n      <td>SP</td>\n      <td>SÃO PAULO</td>\n      <td>71072</td>\n      <td>257</td>\n      <td>FEMININO</td>\n      <td>90 a 94 anos</td>\n      <td>SUPERIOR INCOMPLETO</td>\n      <td>1</td>\n    </tr>\n    <tr>\n      <th>2</th>\n      <td>23:04:11</td>\n      <td>SP</td>\n      <td>SÃO PAULO</td>\n      <td>71072</td>\n      <td>257</td>\n      <td>FEMININO</td>\n      <td>90 a 94 anos</td>\n      <td>SUPERIOR COMPLETO</td>\n      <td>8</td>\n    </tr>\n    <tr>\n      <th>3</th>\n      <td>23:04:11</td>\n      <td>SP</td>\n      <td>SÃO PAULO</td>\n      <td>71072</td>\n      <td>257</td>\n      <td>FEMININO</td>\n      <td>95 a 99 anos</td>\n      <td>ANALFABETO</td>\n      <td>28</td>\n    </tr>\n    <tr>\n      <th>4</th>\n      <td>23:04:11</td>\n      <td>SP</td>\n      <td>SÃO PAULO</td>\n      <td>71072</td>\n      <td>257</td>\n      <td>FEMININO</td>\n      <td>95 a 99 anos</td>\n      <td>LÊ E ESCREVE</td>\n      <td>149</td>\n    </tr>\n    <tr>\n      <th>...</th>\n      <td>...</td>\n      <td>...</td>\n      <td>...</td>\n      <td>...</td>\n      <td>...</td>\n      <td>...</td>\n      <td>...</td>\n      <td>...</td>\n      <td>...</td>\n    </tr>\n    <tr>\n      <th>4248089</th>\n      <td>23:04:11</td>\n      <td>BA</td>\n      <td>BURITIRAMA</td>\n      <td>30791</td>\n      <td>77</td>\n      <td>FEMININO</td>\n      <td>45 a 49 anos</td>\n      <td>ANALFABETO</td>\n      <td>26</td>\n    </tr>\n    <tr>\n      <th>4248090</th>\n      <td>23:04:11</td>\n      <td>BA</td>\n      <td>BURITIRAMA</td>\n      <td>30791</td>\n      <td>77</td>\n      <td>FEMININO</td>\n      <td>45 a 49 anos</td>\n      <td>LÊ E ESCREVE</td>\n      <td>116</td>\n    </tr>\n    <tr>\n      <th>4248091</th>\n      <td>23:04:11</td>\n      <td>BA</td>\n      <td>BURITIRAMA</td>\n      <td>30791</td>\n      <td>77</td>\n      <td>FEMININO</td>\n      <td>45 a 49 anos</td>\n      <td>ENSINO FUNDAMENTAL INCOMPLETO</td>\n      <td>95</td>\n    </tr>\n    <tr>\n      <th>4248092</th>\n      <td>23:04:11</td>\n      <td>BA</td>\n      <td>BURITIRAMA</td>\n      <td>30791</td>\n      <td>77</td>\n      <td>FEMININO</td>\n      <td>45 a 49 anos</td>\n      <td>ENSINO FUNDAMENTAL COMPLETO</td>\n      <td>8</td>\n    </tr>\n    <tr>\n      <th>4248093</th>\n      <td>23:04:11</td>\n      <td>BA</td>\n      <td>BURITIRAMA</td>\n      <td>30791</td>\n      <td>77</td>\n      <td>FEMININO</td>\n      <td>45 a 49 anos</td>\n      <td>ENSINO MÉDIO INCOMPLETO</td>\n      <td>3</td>\n    </tr>\n  </tbody>\n</table>\n<p>4248094 rows × 9 columns</p>\n</div>"
     },
     "metadata": {},
     "execution_count": 44
    }
   ],
   "source": [
    "dados_2020_Selecionados"
   ]
  },
  {
   "cell_type": "code",
   "execution_count": null,
   "metadata": {},
   "outputs": [],
   "source": []
  }
 ]
}
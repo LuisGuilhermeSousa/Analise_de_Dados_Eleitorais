{
 "metadata": {
  "language_info": {
   "codemirror_mode": {
    "name": "ipython",
    "version": 3
   },
   "file_extension": ".py",
   "mimetype": "text/x-python",
   "name": "python",
   "nbconvert_exporter": "python",
   "pygments_lexer": "ipython3",
   "version": "3.8.6-final"
  },
  "orig_nbformat": 2,
  "kernelspec": {
   "name": "python3",
   "display_name": "Python 3"
  }
 },
 "nbformat": 4,
 "nbformat_minor": 2,
 "cells": [
  {
   "cell_type": "code",
   "execution_count": 6,
   "metadata": {},
   "outputs": [],
   "source": [
    "import pandas as pd"
   ]
  },
  {
   "cell_type": "code",
   "execution_count": 26,
   "metadata": {},
   "outputs": [],
   "source": [
    "colunasSelecionadas = ['HH_GERACAO', 'SG_UF', 'NM_MUNICIPIO', 'CD_MUNICIPIO', 'NR_ZONA',\n",
    "       'DS_GENERO', 'DS_FAIXA_ETARIA', 'DS_GRAU_ESCOLARIDADE',\n",
    "       'QT_ELEITORES_PERFIL']"
   ]
  },
  {
   "cell_type": "code",
   "execution_count": 27,
   "metadata": {},
   "outputs": [],
   "source": [
    "dados_2012 = pd.read_csv('Dados/perfil_eleitorado_2012.csv', sep=';', encoding='latin-1', usecols=colunasSelecionadas)\n",
    "dados_2014 = pd.read_csv('Dados/perfil_eleitorado_2014.csv', sep=';', encoding='utf-8', usecols=colunasSelecionadas)\n",
    "dados_2016 = pd.read_csv('Dados/perfil_eleitorado_2016.csv', sep=';', encoding='utf-8', usecols=colunasSelecionadas)\n",
    "dados_2018 = pd.read_csv('Dados/perfil_eleitorado_2018.csv', sep=';', encoding='latin-1', usecols=colunasSelecionadas)\n",
    "dados_2020 = pd.read_csv('Dados/perfil_eleitorado_2020.csv', sep=';', encoding='latin-1', usecols=colunasSelecionadas)"
   ]
  },
  {
   "cell_type": "code",
   "execution_count": 28,
   "metadata": {},
   "outputs": [
    {
     "output_type": "execute_result",
     "data": {
      "text/plain": [
       "  HH_GERACAO SG_UF  CD_MUNICIPIO NM_MUNICIPIO  NR_ZONA DS_GENERO  \\\n",
       "0   13:50:03    BA         38113        PRADO      112  FEMININO   \n",
       "1   13:50:03    BA         38113        PRADO      112  FEMININO   \n",
       "2   13:50:03    BA         38113        PRADO      112  FEMININO   \n",
       "3   13:50:03    BA         38113        PRADO      112  FEMININO   \n",
       "4   13:50:03    BA         38113        PRADO      112  FEMININO   \n",
       "\n",
       "                  DS_FAIXA_ETARIA           DS_GRAU_ESCOLARIDADE  \\\n",
       "0  17 anos                                   SUPERIOR INCOMPLETO   \n",
       "1  18 anos                                            ANALFABETO   \n",
       "2  18 anos                                          LÊ E ESCREVE   \n",
       "3  18 anos                         ENSINO FUNDAMENTAL INCOMPLETO   \n",
       "4  18 anos                           ENSINO FUNDAMENTAL COMPLETO   \n",
       "\n",
       "   QT_ELEITORES_PERFIL  \n",
       "0                    3  \n",
       "1                    1  \n",
       "2                    2  \n",
       "3                   67  \n",
       "4                    6  "
      ],
      "text/html": "<div>\n<style scoped>\n    .dataframe tbody tr th:only-of-type {\n        vertical-align: middle;\n    }\n\n    .dataframe tbody tr th {\n        vertical-align: top;\n    }\n\n    .dataframe thead th {\n        text-align: right;\n    }\n</style>\n<table border=\"1\" class=\"dataframe\">\n  <thead>\n    <tr style=\"text-align: right;\">\n      <th></th>\n      <th>HH_GERACAO</th>\n      <th>SG_UF</th>\n      <th>CD_MUNICIPIO</th>\n      <th>NM_MUNICIPIO</th>\n      <th>NR_ZONA</th>\n      <th>DS_GENERO</th>\n      <th>DS_FAIXA_ETARIA</th>\n      <th>DS_GRAU_ESCOLARIDADE</th>\n      <th>QT_ELEITORES_PERFIL</th>\n    </tr>\n  </thead>\n  <tbody>\n    <tr>\n      <th>0</th>\n      <td>13:50:03</td>\n      <td>BA</td>\n      <td>38113</td>\n      <td>PRADO</td>\n      <td>112</td>\n      <td>FEMININO</td>\n      <td>17 anos</td>\n      <td>SUPERIOR INCOMPLETO</td>\n      <td>3</td>\n    </tr>\n    <tr>\n      <th>1</th>\n      <td>13:50:03</td>\n      <td>BA</td>\n      <td>38113</td>\n      <td>PRADO</td>\n      <td>112</td>\n      <td>FEMININO</td>\n      <td>18 anos</td>\n      <td>ANALFABETO</td>\n      <td>1</td>\n    </tr>\n    <tr>\n      <th>2</th>\n      <td>13:50:03</td>\n      <td>BA</td>\n      <td>38113</td>\n      <td>PRADO</td>\n      <td>112</td>\n      <td>FEMININO</td>\n      <td>18 anos</td>\n      <td>LÊ E ESCREVE</td>\n      <td>2</td>\n    </tr>\n    <tr>\n      <th>3</th>\n      <td>13:50:03</td>\n      <td>BA</td>\n      <td>38113</td>\n      <td>PRADO</td>\n      <td>112</td>\n      <td>FEMININO</td>\n      <td>18 anos</td>\n      <td>ENSINO FUNDAMENTAL INCOMPLETO</td>\n      <td>67</td>\n    </tr>\n    <tr>\n      <th>4</th>\n      <td>13:50:03</td>\n      <td>BA</td>\n      <td>38113</td>\n      <td>PRADO</td>\n      <td>112</td>\n      <td>FEMININO</td>\n      <td>18 anos</td>\n      <td>ENSINO FUNDAMENTAL COMPLETO</td>\n      <td>6</td>\n    </tr>\n  </tbody>\n</table>\n</div>"
     },
     "metadata": {},
     "execution_count": 28
    }
   ],
   "source": [
    "dados_2012.head()"
   ]
  },
  {
   "cell_type": "code",
   "execution_count": 9,
   "metadata": {},
   "outputs": [
    {
     "output_type": "execute_result",
     "data": {
      "text/plain": [
       "   HH_GERACAO SG_UF NM_MUNICIPIO  CD_MUNICIPIO  NR_ZONA DS_GENERO  \\\n",
       "0      201407    AC   ACRELÂNDIA          1120        8  FEMININO   \n",
       "1      201407    AC   ACRELÂNDIA          1120        8  FEMININO   \n",
       "2      201407    AC   ACRELÂNDIA          1120        8  FEMININO   \n",
       "3      201407    AC   ACRELÂNDIA          1120        8  FEMININO   \n",
       "4      201407    AC   ACRELÂNDIA          1120        8  FEMININO   \n",
       "\n",
       "  DS_FAIXA_ETARIA         DS_GRAU_ESCOLARIDADE  QT_ELEITORES_PERFIL  \n",
       "0         16 ANOS  ENSINO FUNDAMENTAL COMPLETO                    1  \n",
       "1         16 ANOS        ENSINO MÉDIO COMPLETO                    1  \n",
       "2         16 ANOS      ENSINO MÉDIO INCOMPLETO                   23  \n",
       "3         16 ANOS                 LÊ E ESCREVE                    2  \n",
       "4         16 ANOS          SUPERIOR INCOMPLETO                    1  "
      ],
      "text/html": "<div>\n<style scoped>\n    .dataframe tbody tr th:only-of-type {\n        vertical-align: middle;\n    }\n\n    .dataframe tbody tr th {\n        vertical-align: top;\n    }\n\n    .dataframe thead th {\n        text-align: right;\n    }\n</style>\n<table border=\"1\" class=\"dataframe\">\n  <thead>\n    <tr style=\"text-align: right;\">\n      <th></th>\n      <th>HH_GERACAO</th>\n      <th>SG_UF</th>\n      <th>NM_MUNICIPIO</th>\n      <th>CD_MUNICIPIO</th>\n      <th>NR_ZONA</th>\n      <th>DS_GENERO</th>\n      <th>DS_FAIXA_ETARIA</th>\n      <th>DS_GRAU_ESCOLARIDADE</th>\n      <th>QT_ELEITORES_PERFIL</th>\n    </tr>\n  </thead>\n  <tbody>\n    <tr>\n      <th>0</th>\n      <td>201407</td>\n      <td>AC</td>\n      <td>ACRELÂNDIA</td>\n      <td>1120</td>\n      <td>8</td>\n      <td>FEMININO</td>\n      <td>16 ANOS</td>\n      <td>ENSINO FUNDAMENTAL COMPLETO</td>\n      <td>1</td>\n    </tr>\n    <tr>\n      <th>1</th>\n      <td>201407</td>\n      <td>AC</td>\n      <td>ACRELÂNDIA</td>\n      <td>1120</td>\n      <td>8</td>\n      <td>FEMININO</td>\n      <td>16 ANOS</td>\n      <td>ENSINO MÉDIO COMPLETO</td>\n      <td>1</td>\n    </tr>\n    <tr>\n      <th>2</th>\n      <td>201407</td>\n      <td>AC</td>\n      <td>ACRELÂNDIA</td>\n      <td>1120</td>\n      <td>8</td>\n      <td>FEMININO</td>\n      <td>16 ANOS</td>\n      <td>ENSINO MÉDIO INCOMPLETO</td>\n      <td>23</td>\n    </tr>\n    <tr>\n      <th>3</th>\n      <td>201407</td>\n      <td>AC</td>\n      <td>ACRELÂNDIA</td>\n      <td>1120</td>\n      <td>8</td>\n      <td>FEMININO</td>\n      <td>16 ANOS</td>\n      <td>LÊ E ESCREVE</td>\n      <td>2</td>\n    </tr>\n    <tr>\n      <th>4</th>\n      <td>201407</td>\n      <td>AC</td>\n      <td>ACRELÂNDIA</td>\n      <td>1120</td>\n      <td>8</td>\n      <td>FEMININO</td>\n      <td>16 ANOS</td>\n      <td>SUPERIOR INCOMPLETO</td>\n      <td>1</td>\n    </tr>\n  </tbody>\n</table>\n</div>"
     },
     "metadata": {},
     "execution_count": 9
    }
   ],
   "source": [
    "dados_2014.head()"
   ]
  },
  {
   "cell_type": "code",
   "execution_count": 10,
   "metadata": {},
   "outputs": [
    {
     "output_type": "execute_result",
     "data": {
      "text/plain": [
       "   HH_GERACAO SG_UF NM_MUNICIPIO  CD_MUNICIPIO  NR_ZONA DS_GENERO  \\\n",
       "0        2016    AC   ACRELÂNDIA          1120        8  FEMININO   \n",
       "1        2016    AC   ACRELÂNDIA          1120        8  FEMININO   \n",
       "2        2016    AC   ACRELÂNDIA          1120        8  FEMININO   \n",
       "3        2016    AC   ACRELÂNDIA          1120        8  FEMININO   \n",
       "4        2016    AC   ACRELÂNDIA          1120        8  FEMININO   \n",
       "\n",
       "  DS_FAIXA_ETARIA           DS_GRAU_ESCOLARIDADE  QT_ELEITORES_PERFIL  \n",
       "0         16 ANOS    ENSINO FUNDAMENTAL COMPLETO                    5  \n",
       "1         16 ANOS  ENSINO FUNDAMENTAL INCOMPLETO                    9  \n",
       "2         16 ANOS          ENSINO MÉDIO COMPLETO                    1  \n",
       "3         16 ANOS        ENSINO MÉDIO INCOMPLETO                   33  \n",
       "4         16 ANOS            SUPERIOR INCOMPLETO                    1  "
      ],
      "text/html": "<div>\n<style scoped>\n    .dataframe tbody tr th:only-of-type {\n        vertical-align: middle;\n    }\n\n    .dataframe tbody tr th {\n        vertical-align: top;\n    }\n\n    .dataframe thead th {\n        text-align: right;\n    }\n</style>\n<table border=\"1\" class=\"dataframe\">\n  <thead>\n    <tr style=\"text-align: right;\">\n      <th></th>\n      <th>HH_GERACAO</th>\n      <th>SG_UF</th>\n      <th>NM_MUNICIPIO</th>\n      <th>CD_MUNICIPIO</th>\n      <th>NR_ZONA</th>\n      <th>DS_GENERO</th>\n      <th>DS_FAIXA_ETARIA</th>\n      <th>DS_GRAU_ESCOLARIDADE</th>\n      <th>QT_ELEITORES_PERFIL</th>\n    </tr>\n  </thead>\n  <tbody>\n    <tr>\n      <th>0</th>\n      <td>2016</td>\n      <td>AC</td>\n      <td>ACRELÂNDIA</td>\n      <td>1120</td>\n      <td>8</td>\n      <td>FEMININO</td>\n      <td>16 ANOS</td>\n      <td>ENSINO FUNDAMENTAL COMPLETO</td>\n      <td>5</td>\n    </tr>\n    <tr>\n      <th>1</th>\n      <td>2016</td>\n      <td>AC</td>\n      <td>ACRELÂNDIA</td>\n      <td>1120</td>\n      <td>8</td>\n      <td>FEMININO</td>\n      <td>16 ANOS</td>\n      <td>ENSINO FUNDAMENTAL INCOMPLETO</td>\n      <td>9</td>\n    </tr>\n    <tr>\n      <th>2</th>\n      <td>2016</td>\n      <td>AC</td>\n      <td>ACRELÂNDIA</td>\n      <td>1120</td>\n      <td>8</td>\n      <td>FEMININO</td>\n      <td>16 ANOS</td>\n      <td>ENSINO MÉDIO COMPLETO</td>\n      <td>1</td>\n    </tr>\n    <tr>\n      <th>3</th>\n      <td>2016</td>\n      <td>AC</td>\n      <td>ACRELÂNDIA</td>\n      <td>1120</td>\n      <td>8</td>\n      <td>FEMININO</td>\n      <td>16 ANOS</td>\n      <td>ENSINO MÉDIO INCOMPLETO</td>\n      <td>33</td>\n    </tr>\n    <tr>\n      <th>4</th>\n      <td>2016</td>\n      <td>AC</td>\n      <td>ACRELÂNDIA</td>\n      <td>1120</td>\n      <td>8</td>\n      <td>FEMININO</td>\n      <td>16 ANOS</td>\n      <td>SUPERIOR INCOMPLETO</td>\n      <td>1</td>\n    </tr>\n  </tbody>\n</table>\n</div>"
     },
     "metadata": {},
     "execution_count": 10
    }
   ],
   "source": [
    "dados_2016.head()"
   ]
  },
  {
   "cell_type": "code",
   "execution_count": 11,
   "metadata": {},
   "outputs": [
    {
     "output_type": "execute_result",
     "data": {
      "text/plain": [
       "   DT_GERACAO HH_GERACAO  ANO_ELEICAO SG_UF  CD_MUNICIPIO  \\\n",
       "0  17/09/2018   23:21:37         2018    TO         73539   \n",
       "1  17/09/2018   23:21:37         2018    TO         73539   \n",
       "2  17/09/2018   23:21:37         2018    TO         73539   \n",
       "3  17/09/2018   23:21:37         2018    TO         73539   \n",
       "4  17/09/2018   23:21:37         2018    TO         73539   \n",
       "\n",
       "                   NM_MUNICIPIO  CD_MUN_SIT_BIOMETRIA DS_MUN_SIT_BIOMETRIA  \\\n",
       "0  SANTA TEREZINHA DO TOCANTINS                     1           Biométrico   \n",
       "1  SANTA TEREZINHA DO TOCANTINS                     1           Biométrico   \n",
       "2  SANTA TEREZINHA DO TOCANTINS                     1           Biométrico   \n",
       "3  SANTA TEREZINHA DO TOCANTINS                     1           Biométrico   \n",
       "4  SANTA TEREZINHA DO TOCANTINS                     1           Biométrico   \n",
       "\n",
       "   NR_ZONA  CD_GENERO  ... CD_ESTADO_CIVIL         DS_ESTADO_CIVIL  \\\n",
       "0        9          2  ...               3                  CASADO   \n",
       "1        9          2  ...               3                  CASADO   \n",
       "2        9          2  ...               7  SEPARADO JUDICIALMENTE   \n",
       "3        9          2  ...               9              DIVORCIADO   \n",
       "4        9          2  ...               9              DIVORCIADO   \n",
       "\n",
       "  CD_FAIXA_ETARIA                 DS_FAIXA_ETARIA CD_GRAU_ESCOLARIDADE  \\\n",
       "0            7579  75 a 79 anos                                      2   \n",
       "1            7579  75 a 79 anos                                      3   \n",
       "2            5054  50 a 54 anos                                      3   \n",
       "3            4044  40 a 44 anos                                      4   \n",
       "4            4549  45 a 49 anos                                      3   \n",
       "\n",
       "            DS_GRAU_ESCOLARIDADE QT_ELEITORES_PERFIL  QT_ELEITORES_BIOMETRIA  \\\n",
       "0                   LÊ E ESCREVE                  10                      10   \n",
       "1  ENSINO FUNDAMENTAL INCOMPLETO                   2                       2   \n",
       "2  ENSINO FUNDAMENTAL INCOMPLETO                   1                       1   \n",
       "3    ENSINO FUNDAMENTAL COMPLETO                   1                       1   \n",
       "4  ENSINO FUNDAMENTAL INCOMPLETO                   3                       3   \n",
       "\n",
       "   QT_ELEITORES_DEFICIENCIA  QT_ELEITORES_INC_NM_SOCIAL  \n",
       "0                         1                           0  \n",
       "1                         1                           0  \n",
       "2                         0                           0  \n",
       "3                         0                           0  \n",
       "4                         0                           0  \n",
       "\n",
       "[5 rows x 21 columns]"
      ],
      "text/html": "<div>\n<style scoped>\n    .dataframe tbody tr th:only-of-type {\n        vertical-align: middle;\n    }\n\n    .dataframe tbody tr th {\n        vertical-align: top;\n    }\n\n    .dataframe thead th {\n        text-align: right;\n    }\n</style>\n<table border=\"1\" class=\"dataframe\">\n  <thead>\n    <tr style=\"text-align: right;\">\n      <th></th>\n      <th>DT_GERACAO</th>\n      <th>HH_GERACAO</th>\n      <th>ANO_ELEICAO</th>\n      <th>SG_UF</th>\n      <th>CD_MUNICIPIO</th>\n      <th>NM_MUNICIPIO</th>\n      <th>CD_MUN_SIT_BIOMETRIA</th>\n      <th>DS_MUN_SIT_BIOMETRIA</th>\n      <th>NR_ZONA</th>\n      <th>CD_GENERO</th>\n      <th>...</th>\n      <th>CD_ESTADO_CIVIL</th>\n      <th>DS_ESTADO_CIVIL</th>\n      <th>CD_FAIXA_ETARIA</th>\n      <th>DS_FAIXA_ETARIA</th>\n      <th>CD_GRAU_ESCOLARIDADE</th>\n      <th>DS_GRAU_ESCOLARIDADE</th>\n      <th>QT_ELEITORES_PERFIL</th>\n      <th>QT_ELEITORES_BIOMETRIA</th>\n      <th>QT_ELEITORES_DEFICIENCIA</th>\n      <th>QT_ELEITORES_INC_NM_SOCIAL</th>\n    </tr>\n  </thead>\n  <tbody>\n    <tr>\n      <th>0</th>\n      <td>17/09/2018</td>\n      <td>23:21:37</td>\n      <td>2018</td>\n      <td>TO</td>\n      <td>73539</td>\n      <td>SANTA TEREZINHA DO TOCANTINS</td>\n      <td>1</td>\n      <td>Biométrico</td>\n      <td>9</td>\n      <td>2</td>\n      <td>...</td>\n      <td>3</td>\n      <td>CASADO</td>\n      <td>7579</td>\n      <td>75 a 79 anos</td>\n      <td>2</td>\n      <td>LÊ E ESCREVE</td>\n      <td>10</td>\n      <td>10</td>\n      <td>1</td>\n      <td>0</td>\n    </tr>\n    <tr>\n      <th>1</th>\n      <td>17/09/2018</td>\n      <td>23:21:37</td>\n      <td>2018</td>\n      <td>TO</td>\n      <td>73539</td>\n      <td>SANTA TEREZINHA DO TOCANTINS</td>\n      <td>1</td>\n      <td>Biométrico</td>\n      <td>9</td>\n      <td>2</td>\n      <td>...</td>\n      <td>3</td>\n      <td>CASADO</td>\n      <td>7579</td>\n      <td>75 a 79 anos</td>\n      <td>3</td>\n      <td>ENSINO FUNDAMENTAL INCOMPLETO</td>\n      <td>2</td>\n      <td>2</td>\n      <td>1</td>\n      <td>0</td>\n    </tr>\n    <tr>\n      <th>2</th>\n      <td>17/09/2018</td>\n      <td>23:21:37</td>\n      <td>2018</td>\n      <td>TO</td>\n      <td>73539</td>\n      <td>SANTA TEREZINHA DO TOCANTINS</td>\n      <td>1</td>\n      <td>Biométrico</td>\n      <td>9</td>\n      <td>2</td>\n      <td>...</td>\n      <td>7</td>\n      <td>SEPARADO JUDICIALMENTE</td>\n      <td>5054</td>\n      <td>50 a 54 anos</td>\n      <td>3</td>\n      <td>ENSINO FUNDAMENTAL INCOMPLETO</td>\n      <td>1</td>\n      <td>1</td>\n      <td>0</td>\n      <td>0</td>\n    </tr>\n    <tr>\n      <th>3</th>\n      <td>17/09/2018</td>\n      <td>23:21:37</td>\n      <td>2018</td>\n      <td>TO</td>\n      <td>73539</td>\n      <td>SANTA TEREZINHA DO TOCANTINS</td>\n      <td>1</td>\n      <td>Biométrico</td>\n      <td>9</td>\n      <td>2</td>\n      <td>...</td>\n      <td>9</td>\n      <td>DIVORCIADO</td>\n      <td>4044</td>\n      <td>40 a 44 anos</td>\n      <td>4</td>\n      <td>ENSINO FUNDAMENTAL COMPLETO</td>\n      <td>1</td>\n      <td>1</td>\n      <td>0</td>\n      <td>0</td>\n    </tr>\n    <tr>\n      <th>4</th>\n      <td>17/09/2018</td>\n      <td>23:21:37</td>\n      <td>2018</td>\n      <td>TO</td>\n      <td>73539</td>\n      <td>SANTA TEREZINHA DO TOCANTINS</td>\n      <td>1</td>\n      <td>Biométrico</td>\n      <td>9</td>\n      <td>2</td>\n      <td>...</td>\n      <td>9</td>\n      <td>DIVORCIADO</td>\n      <td>4549</td>\n      <td>45 a 49 anos</td>\n      <td>3</td>\n      <td>ENSINO FUNDAMENTAL INCOMPLETO</td>\n      <td>3</td>\n      <td>3</td>\n      <td>0</td>\n      <td>0</td>\n    </tr>\n  </tbody>\n</table>\n<p>5 rows × 21 columns</p>\n</div>"
     },
     "metadata": {},
     "execution_count": 11
    }
   ],
   "source": [
    "dados_2018.head()"
   ]
  },
  {
   "cell_type": "code",
   "execution_count": 29,
   "metadata": {},
   "outputs": [
    {
     "output_type": "execute_result",
     "data": {
      "text/plain": [
       "        HH_GERACAO SG_UF  CD_MUNICIPIO NM_MUNICIPIO  NR_ZONA DS_GENERO  \\\n",
       "0         23:04:11    SP         71072    SÃO PAULO      257  FEMININO   \n",
       "1         23:04:11    SP         71072    SÃO PAULO      257  FEMININO   \n",
       "2         23:04:11    SP         71072    SÃO PAULO      257  FEMININO   \n",
       "3         23:04:11    SP         71072    SÃO PAULO      257  FEMININO   \n",
       "4         23:04:11    SP         71072    SÃO PAULO      257  FEMININO   \n",
       "...            ...   ...           ...          ...      ...       ...   \n",
       "4248089   23:04:11    BA         30791   BURITIRAMA       77  FEMININO   \n",
       "4248090   23:04:11    BA         30791   BURITIRAMA       77  FEMININO   \n",
       "4248091   23:04:11    BA         30791   BURITIRAMA       77  FEMININO   \n",
       "4248092   23:04:11    BA         30791   BURITIRAMA       77  FEMININO   \n",
       "4248093   23:04:11    BA         30791   BURITIRAMA       77  FEMININO   \n",
       "\n",
       "                        DS_FAIXA_ETARIA           DS_GRAU_ESCOLARIDADE  \\\n",
       "0        90 a 94 anos                            ENSINO MÉDIO COMPLETO   \n",
       "1        90 a 94 anos                              SUPERIOR INCOMPLETO   \n",
       "2        90 a 94 anos                                SUPERIOR COMPLETO   \n",
       "3        95 a 99 anos                                       ANALFABETO   \n",
       "4        95 a 99 anos                                     LÊ E ESCREVE   \n",
       "...                                 ...                            ...   \n",
       "4248089  45 a 49 anos                                       ANALFABETO   \n",
       "4248090  45 a 49 anos                                     LÊ E ESCREVE   \n",
       "4248091  45 a 49 anos                    ENSINO FUNDAMENTAL INCOMPLETO   \n",
       "4248092  45 a 49 anos                      ENSINO FUNDAMENTAL COMPLETO   \n",
       "4248093  45 a 49 anos                          ENSINO MÉDIO INCOMPLETO   \n",
       "\n",
       "         QT_ELEITORES_PERFIL  \n",
       "0                         17  \n",
       "1                          1  \n",
       "2                          8  \n",
       "3                         28  \n",
       "4                        149  \n",
       "...                      ...  \n",
       "4248089                   26  \n",
       "4248090                  116  \n",
       "4248091                   95  \n",
       "4248092                    8  \n",
       "4248093                    3  \n",
       "\n",
       "[4248094 rows x 9 columns]"
      ],
      "text/html": "<div>\n<style scoped>\n    .dataframe tbody tr th:only-of-type {\n        vertical-align: middle;\n    }\n\n    .dataframe tbody tr th {\n        vertical-align: top;\n    }\n\n    .dataframe thead th {\n        text-align: right;\n    }\n</style>\n<table border=\"1\" class=\"dataframe\">\n  <thead>\n    <tr style=\"text-align: right;\">\n      <th></th>\n      <th>HH_GERACAO</th>\n      <th>SG_UF</th>\n      <th>CD_MUNICIPIO</th>\n      <th>NM_MUNICIPIO</th>\n      <th>NR_ZONA</th>\n      <th>DS_GENERO</th>\n      <th>DS_FAIXA_ETARIA</th>\n      <th>DS_GRAU_ESCOLARIDADE</th>\n      <th>QT_ELEITORES_PERFIL</th>\n    </tr>\n  </thead>\n  <tbody>\n    <tr>\n      <th>0</th>\n      <td>23:04:11</td>\n      <td>SP</td>\n      <td>71072</td>\n      <td>SÃO PAULO</td>\n      <td>257</td>\n      <td>FEMININO</td>\n      <td>90 a 94 anos</td>\n      <td>ENSINO MÉDIO COMPLETO</td>\n      <td>17</td>\n    </tr>\n    <tr>\n      <th>1</th>\n      <td>23:04:11</td>\n      <td>SP</td>\n      <td>71072</td>\n      <td>SÃO PAULO</td>\n      <td>257</td>\n      <td>FEMININO</td>\n      <td>90 a 94 anos</td>\n      <td>SUPERIOR INCOMPLETO</td>\n      <td>1</td>\n    </tr>\n    <tr>\n      <th>2</th>\n      <td>23:04:11</td>\n      <td>SP</td>\n      <td>71072</td>\n      <td>SÃO PAULO</td>\n      <td>257</td>\n      <td>FEMININO</td>\n      <td>90 a 94 anos</td>\n      <td>SUPERIOR COMPLETO</td>\n      <td>8</td>\n    </tr>\n    <tr>\n      <th>3</th>\n      <td>23:04:11</td>\n      <td>SP</td>\n      <td>71072</td>\n      <td>SÃO PAULO</td>\n      <td>257</td>\n      <td>FEMININO</td>\n      <td>95 a 99 anos</td>\n      <td>ANALFABETO</td>\n      <td>28</td>\n    </tr>\n    <tr>\n      <th>4</th>\n      <td>23:04:11</td>\n      <td>SP</td>\n      <td>71072</td>\n      <td>SÃO PAULO</td>\n      <td>257</td>\n      <td>FEMININO</td>\n      <td>95 a 99 anos</td>\n      <td>LÊ E ESCREVE</td>\n      <td>149</td>\n    </tr>\n    <tr>\n      <th>...</th>\n      <td>...</td>\n      <td>...</td>\n      <td>...</td>\n      <td>...</td>\n      <td>...</td>\n      <td>...</td>\n      <td>...</td>\n      <td>...</td>\n      <td>...</td>\n    </tr>\n    <tr>\n      <th>4248089</th>\n      <td>23:04:11</td>\n      <td>BA</td>\n      <td>30791</td>\n      <td>BURITIRAMA</td>\n      <td>77</td>\n      <td>FEMININO</td>\n      <td>45 a 49 anos</td>\n      <td>ANALFABETO</td>\n      <td>26</td>\n    </tr>\n    <tr>\n      <th>4248090</th>\n      <td>23:04:11</td>\n      <td>BA</td>\n      <td>30791</td>\n      <td>BURITIRAMA</td>\n      <td>77</td>\n      <td>FEMININO</td>\n      <td>45 a 49 anos</td>\n      <td>LÊ E ESCREVE</td>\n      <td>116</td>\n    </tr>\n    <tr>\n      <th>4248091</th>\n      <td>23:04:11</td>\n      <td>BA</td>\n      <td>30791</td>\n      <td>BURITIRAMA</td>\n      <td>77</td>\n      <td>FEMININO</td>\n      <td>45 a 49 anos</td>\n      <td>ENSINO FUNDAMENTAL INCOMPLETO</td>\n      <td>95</td>\n    </tr>\n    <tr>\n      <th>4248092</th>\n      <td>23:04:11</td>\n      <td>BA</td>\n      <td>30791</td>\n      <td>BURITIRAMA</td>\n      <td>77</td>\n      <td>FEMININO</td>\n      <td>45 a 49 anos</td>\n      <td>ENSINO FUNDAMENTAL COMPLETO</td>\n      <td>8</td>\n    </tr>\n    <tr>\n      <th>4248093</th>\n      <td>23:04:11</td>\n      <td>BA</td>\n      <td>30791</td>\n      <td>BURITIRAMA</td>\n      <td>77</td>\n      <td>FEMININO</td>\n      <td>45 a 49 anos</td>\n      <td>ENSINO MÉDIO INCOMPLETO</td>\n      <td>3</td>\n    </tr>\n  </tbody>\n</table>\n<p>4248094 rows × 9 columns</p>\n</div>"
     },
     "metadata": {},
     "execution_count": 29
    }
   ],
   "source": [
    "dados_2020"
   ]
  },
  {
   "cell_type": "code",
   "execution_count": 40,
   "metadata": {},
   "outputs": [
    {
     "output_type": "execute_result",
     "data": {
      "text/plain": [
       "DS_GRAU_ESCOLARIDADE\n",
       "ANALFABETO                        178351\n",
       "ENSINO FUNDAMENTAL COMPLETO       669859\n",
       "ENSINO FUNDAMENTAL INCOMPLETO    1597042\n",
       "ENSINO MÉDIO COMPLETO            2492188\n",
       "ENSINO MÉDIO INCOMPLETO          1615763\n",
       "LÊ E ESCREVE                      382237\n",
       "SUPERIOR COMPLETO                1444126\n",
       "SUPERIOR INCOMPLETO               607121\n",
       "Name: QT_ELEITORES_PERFIL, dtype: int64"
      ]
     },
     "metadata": {},
     "execution_count": 40
    }
   ],
   "source": [
    "dados_2020.query(\"NM_MUNICIPIO == 'SÃO PAULO'\").groupby('DS_GRAU_ESCOLARIDADE').QT_ELEITORES_PERFIL.sum()"
   ]
  },
  {
   "cell_type": "code",
   "execution_count": 47,
   "metadata": {},
   "outputs": [
    {
     "output_type": "execute_result",
     "data": {
      "text/plain": [
       "NM_MUNICIPIO\n",
       "SÃO PAULO                178351\n",
       "RIO DE JANEIRO            68056\n",
       "FORTALEZA                 42551\n",
       "BELO HORIZONTE            29785\n",
       "MACEIÓ                    20019\n",
       "                          ...  \n",
       "LAGOA DOS TRÊS CANTOS         6\n",
       "ALTO FELIZ                    5\n",
       "NOVA CANDELÁRIA               4\n",
       "LINHA NOVA                    4\n",
       "SÃO VENDELINO                 2\n",
       "Name: QT_ELEITORES_PERFIL, Length: 5295, dtype: int64"
      ]
     },
     "metadata": {},
     "execution_count": 47
    }
   ],
   "source": [
    "dados_2020.query(\"DS_GRAU_ESCOLARIDADE == 'ANALFABETO'\").groupby('NM_MUNICIPIO').QT_ELEITORES_PERFIL.sum().sort_values(ascending=False)"
   ]
  },
  {
   "cell_type": "code",
   "execution_count": null,
   "metadata": {},
   "outputs": [],
   "source": []
  }
 ]
}